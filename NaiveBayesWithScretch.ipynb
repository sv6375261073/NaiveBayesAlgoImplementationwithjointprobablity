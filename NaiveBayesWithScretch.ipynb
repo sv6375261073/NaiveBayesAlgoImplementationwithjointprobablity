{
 "cells": [
  {
   "cell_type": "code",
   "execution_count": 1,
   "metadata": {},
   "outputs": [],
   "source": [
    "import pandas as pd\n",
    "import numpy as np"
   ]
  },
  {
   "cell_type": "code",
   "execution_count": 120,
   "metadata": {},
   "outputs": [],
   "source": [
    "fruit=[1,2,3]\n",
    "yellow=[350,400,50]\n",
    "sweet=[450,300,100]\n",
    "long=[0,350,50]\n",
    "total=[650,400,150]"
   ]
  },
  {
   "cell_type": "code",
   "execution_count": 121,
   "metadata": {},
   "outputs": [],
   "source": [
    "data=pd.DataFrame({'fruit':fruit,'yellow':yellow,'sweet':sweet,'long':long,'total':total})"
   ]
  },
  {
   "cell_type": "code",
   "execution_count": 122,
   "metadata": {},
   "outputs": [
    {
     "data": {
      "text/html": [
       "<div>\n",
       "<style scoped>\n",
       "    .dataframe tbody tr th:only-of-type {\n",
       "        vertical-align: middle;\n",
       "    }\n",
       "\n",
       "    .dataframe tbody tr th {\n",
       "        vertical-align: top;\n",
       "    }\n",
       "\n",
       "    .dataframe thead th {\n",
       "        text-align: right;\n",
       "    }\n",
       "</style>\n",
       "<table border=\"1\" class=\"dataframe\">\n",
       "  <thead>\n",
       "    <tr style=\"text-align: right;\">\n",
       "      <th></th>\n",
       "      <th>fruit</th>\n",
       "      <th>yellow</th>\n",
       "      <th>sweet</th>\n",
       "      <th>long</th>\n",
       "      <th>total</th>\n",
       "    </tr>\n",
       "  </thead>\n",
       "  <tbody>\n",
       "    <tr>\n",
       "      <td>0</td>\n",
       "      <td>1</td>\n",
       "      <td>350</td>\n",
       "      <td>450</td>\n",
       "      <td>0</td>\n",
       "      <td>650</td>\n",
       "    </tr>\n",
       "    <tr>\n",
       "      <td>1</td>\n",
       "      <td>2</td>\n",
       "      <td>400</td>\n",
       "      <td>300</td>\n",
       "      <td>350</td>\n",
       "      <td>400</td>\n",
       "    </tr>\n",
       "    <tr>\n",
       "      <td>2</td>\n",
       "      <td>3</td>\n",
       "      <td>50</td>\n",
       "      <td>100</td>\n",
       "      <td>50</td>\n",
       "      <td>150</td>\n",
       "    </tr>\n",
       "  </tbody>\n",
       "</table>\n",
       "</div>"
      ],
      "text/plain": [
       "   fruit  yellow  sweet  long  total\n",
       "0      1     350    450     0    650\n",
       "1      2     400    300   350    400\n",
       "2      3      50    100    50    150"
      ]
     },
     "execution_count": 122,
     "metadata": {},
     "output_type": "execute_result"
    }
   ],
   "source": [
    "data"
   ]
  },
  {
   "cell_type": "code",
   "execution_count": 174,
   "metadata": {},
   "outputs": [],
   "source": [
    "def NaiveBayes(data):\n",
    "    feature=data.iloc[:,1:-1]\n",
    "    target=data.iloc[:,-1]\n",
    "    print('Features',feature)\n",
    "    print(\"target\",target)\n",
    "    feature_sum=feature.sum(axis=0)\n",
    "    target_sum=target.sum(axis=0)\n",
    "    print(\"Features sum as cols \",feature_sum)\n",
    "    cols=list(feature.head(0))\n",
    "    print(\"Cols\",cols)\n",
    "    prob_feat=np.array(feature_sum)/target_sum\n",
    "    print(\"probablity of each feature \",prob_feat)\n",
    "    prob_cat=np.array(target)/target_sum\n",
    "    print(\"probablity of each category \",prob_cat)\n",
    "    for j in range(len(data)):\n",
    "        prob_mango_each=((feature.iloc[j]/feature_sum)*prob_feat)/prob_cat[j]\n",
    "        prob_final=1\n",
    "        for i in prob_mango_each:\n",
    "            prob_final*=i\n",
    "        print(f\"final probablity of category {j} is {prob_final}\")"
   ]
  },
  {
   "cell_type": "code",
   "execution_count": 175,
   "metadata": {},
   "outputs": [
    {
     "name": "stdout",
     "output_type": "stream",
     "text": [
      "Features    yellow  sweet  long\n",
      "0     350    450     0\n",
      "1     400    300   350\n",
      "2      50    100    50\n",
      "target 0    650\n",
      "1    400\n",
      "2    150\n",
      "Name: total, dtype: int64\n",
      "Features sum as cols  yellow    800\n",
      "sweet     850\n",
      "long      400\n",
      "dtype: int64\n",
      "Cols ['yellow', 'sweet', 'long']\n",
      "probablity of each feature  [0.66666667 0.70833333 0.33333333]\n",
      "probablity of each category  [0.54166667 0.33333333 0.125     ]\n",
      "final probablity of category 0 is 0.0\n",
      "final probablity of category 1 is 0.6562500000000001\n",
      "final probablity of category 2 is 0.07407407407407407\n"
     ]
    }
   ],
   "source": [
    "NaiveBayes(data)"
   ]
  }
 ],
 "metadata": {
  "kernelspec": {
   "display_name": "Python 3",
   "language": "python",
   "name": "python3"
  },
  "language_info": {
   "codemirror_mode": {
    "name": "ipython",
    "version": 3
   },
   "file_extension": ".py",
   "mimetype": "text/x-python",
   "name": "python",
   "nbconvert_exporter": "python",
   "pygments_lexer": "ipython3",
   "version": "3.7.4"
  }
 },
 "nbformat": 4,
 "nbformat_minor": 2
}
